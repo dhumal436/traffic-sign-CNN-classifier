{
  "nbformat": 4,
  "nbformat_minor": 0,
  "metadata": {
    "kernelspec": {
      "language": "python",
      "display_name": "Python 3",
      "name": "python3"
    },
    "language_info": {
      "pygments_lexer": "ipython3",
      "nbconvert_exporter": "python",
      "version": "3.6.4",
      "file_extension": ".py",
      "codemirror_mode": {
        "name": "ipython",
        "version": 3
      },
      "name": "python",
      "mimetype": "text/x-python"
    },
    "colab": {
      "name": "traffic sign.ipynb",
      "provenance": [],
      "collapsed_sections": []
    }
  },
  "cells": [
    {
      "cell_type": "code",
      "metadata": {
        "_uuid": "8f2839f25d086af736a60e9eeb907d3b93b6e0e5",
        "_cell_guid": "b1076dfc-b9ad-4769-8c92-a6c4dae69d19",
        "trusted": true,
        "id": "BPe2olC5YXHH",
        "colab_type": "code",
        "colab": {}
      },
      "source": [
        "\n",
        "\n",
        "import numpy as np # linear algebra\n",
        "import pandas as pd # data processing, CSV file I/O (e.g. pd.read_csv)\n"
      ],
      "execution_count": 0,
      "outputs": []
    },
    {
      "cell_type": "code",
      "metadata": {
        "id": "bj_VZ-oB0ifw",
        "colab_type": "code",
        "colab": {}
      },
      "source": [
        "text=\"\"\"Speed limit (20km/h)\n",
        "Speed limit (30km/h)\n",
        "Speed limit (50km/h)\n",
        "Speed limit (60km/h)\n",
        "Speed limit (70km/h)\n",
        "Speed limit (80km/h)\n",
        "End of speed limit (80km/h)\n",
        "Speed limit (100km/h)\n",
        "Speed limit (120km/h)\n",
        "No passing\n",
        "No passing for vehicles over 3.5 metric tons\n",
        "Right-of-way at the next intersection\n",
        "Priority road\n",
        "Yield\n",
        "Stop\n",
        "No vehicles\n",
        "Vehicles over 3.5 metric tons prohibited\n",
        "No entry\n",
        "General caution\n",
        "Dangerous curve to the left\n",
        "Dangerous curve to the right\n",
        "Double curve\n",
        "Bumpy road\n",
        "Slippery road\n",
        "Road narrows on the right\n",
        "Road work\n",
        "Traffic signals\n",
        "Pedestrians\n",
        "Children crossing\n",
        "Bicycles crossing\n",
        "Beware of ice/snow\n",
        "Wild animals crossing\n",
        "End of all speed and passing limits\n",
        "Turn right ahead\n",
        "Turn left ahead\n",
        "Ahead only\n",
        "Go straight or right\n",
        "Go straight or left\n",
        "Keep right\n",
        "Keep left\n",
        "Roundabout mandatory\n",
        "End of no passing\n",
        "End of no passing by vehicles over 3.5 metric ...\n",
        "\"\"\""
      ],
      "execution_count": 0,
      "outputs": []
    },
    {
      "cell_type": "code",
      "metadata": {
        "id": "mCoxkROG0wMv",
        "colab_type": "code",
        "colab": {}
      },
      "source": [
        "y_out=[]\n",
        "for i in text.split('\\n'):\n",
        "  y_out.append(i)"
      ],
      "execution_count": 0,
      "outputs": []
    },
    {
      "cell_type": "code",
      "metadata": {
        "_uuid": "d629ff2d2480ee46fbb7e2d37f6b5fab8052498a",
        "_cell_guid": "79c7e3d0-c299-4dcb-8224-4455121ee9b0",
        "trusted": true,
        "id": "Z-t0FmIjYXHN",
        "colab_type": "code",
        "colab": {}
      },
      "source": [
        "import pickle\n",
        "with open('../input/traffic-signs-preprocessed/data2.pickle', 'rb') as f:\n",
        "    data = pickle.load(f, encoding='latin1')"
      ],
      "execution_count": 0,
      "outputs": []
    },
    {
      "cell_type": "code",
      "metadata": {
        "trusted": true,
        "id": "HBiJOix4YXHS",
        "colab_type": "code",
        "outputId": "5fda9e6d-0075-4a02-b714-49d760700bd3",
        "colab": {
          "base_uri": "https://localhost:8080/",
          "height": 80
        }
      },
      "source": [
        "from keras.utils.np_utils import to_categorical\n",
        "from keras.models import Sequential\n",
        "from keras.layers import Dense, Dropout, Flatten, Conv2D, MaxPool2D, AvgPool2D, BatchNormalization, Reshape\n",
        "import keras\n",
        "import matplotlib.pyplot as plt"
      ],
      "execution_count": 0,
      "outputs": [
        {
          "output_type": "stream",
          "text": [
            "Using TensorFlow backend.\n"
          ],
          "name": "stderr"
        },
        {
          "output_type": "display_data",
          "data": {
            "text/html": [
              "<p style=\"color: red;\">\n",
              "The default version of TensorFlow in Colab will soon switch to TensorFlow 2.x.<br>\n",
              "We recommend you <a href=\"https://www.tensorflow.org/guide/migrate\" target=\"_blank\">upgrade</a> now \n",
              "or ensure your notebook will continue to use TensorFlow 1.x via the <code>%tensorflow_version 1.x</code> magic:\n",
              "<a href=\"https://colab.research.google.com/notebooks/tensorflow_version.ipynb\" target=\"_blank\">more info</a>.</p>\n"
            ],
            "text/plain": [
              "<IPython.core.display.HTML object>"
            ]
          },
          "metadata": {
            "tags": []
          }
        }
      ]
    },
    {
      "cell_type": "code",
      "metadata": {
        "trusted": true,
        "id": "0fvD8uK-YXHW",
        "colab_type": "code",
        "colab": {}
      },
      "source": [
        "data['y_train']=to_categorical(data['y_train'],num_classes=43)\n",
        "data['y_validation']=to_categorical(data['y_validation'],num_classes=43)\n",
        "\n",
        "# Making channels come at the end\n",
        "data['x_train'] = data['x_train'].transpose(0, 2, 3, 1)\n",
        "data['x_validation'] = data['x_validation'].transpose(0, 2, 3, 1)\n",
        "data['x_test'] = data['x_test'].transpose(0, 2, 3, 1)"
      ],
      "execution_count": 0,
      "outputs": []
    },
    {
      "cell_type": "code",
      "metadata": {
        "trusted": true,
        "id": "HF8Ka_QoYXHZ",
        "colab_type": "code",
        "outputId": "eb7de1f6-6660-4750-c7bc-e0cb0c6dfa62",
        "colab": {}
      },
      "source": [
        "for i, j in data.items():\n",
        "    if i == 'labels':\n",
        "        print(i + ':', len(j))\n",
        "    else: \n",
        "        print(i + ':', j.shape)\n"
      ],
      "execution_count": 0,
      "outputs": [
        {
          "output_type": "stream",
          "text": [
            "y_test: (12630,)\n",
            "y_validation: (4410, 43)\n",
            "x_validation: (4410, 32, 32, 3)\n",
            "x_train: (86989, 32, 32, 3)\n",
            "y_train: (86989, 43)\n",
            "labels: 43\n",
            "x_test: (12630, 32, 32, 3)\n"
          ],
          "name": "stdout"
        }
      ]
    },
    {
      "cell_type": "code",
      "metadata": {
        "trusted": true,
        "id": "mqbCis1eYXHb",
        "colab_type": "code",
        "outputId": "81ed00fa-df22-488b-b265-1db41385a325",
        "colab": {
          "base_uri": "https://localhost:8080/",
          "height": 326
        }
      },
      "source": [
        "model = Sequential()\n",
        "model.add(Conv2D(32, kernel_size=3, padding='same', activation='relu', input_shape=(32, 32, 3)))\n",
        "model.add(MaxPool2D(pool_size=2))\n",
        "model.add(Conv2D(16, kernel_size=3, padding='same', activation='relu', input_shape=(32, 32, 3)))\n",
        "model.add(MaxPool2D(pool_size=2))\n",
        "model.add(Flatten())\n",
        "model.add(Dense(600, activation='relu'))\n",
        "model.add(Dropout(0.2))\n",
        "model.add(Dense(43, activation='softmax'))\n",
        "model.compile(optimizer='adam', loss='categorical_crossentropy', metrics=['accuracy'])\n"
      ],
      "execution_count": 0,
      "outputs": [
        {
          "output_type": "stream",
          "text": [
            "WARNING:tensorflow:From /usr/local/lib/python3.6/dist-packages/keras/backend/tensorflow_backend.py:66: The name tf.get_default_graph is deprecated. Please use tf.compat.v1.get_default_graph instead.\n",
            "\n",
            "WARNING:tensorflow:From /usr/local/lib/python3.6/dist-packages/keras/backend/tensorflow_backend.py:541: The name tf.placeholder is deprecated. Please use tf.compat.v1.placeholder instead.\n",
            "\n",
            "WARNING:tensorflow:From /usr/local/lib/python3.6/dist-packages/keras/backend/tensorflow_backend.py:4432: The name tf.random_uniform is deprecated. Please use tf.random.uniform instead.\n",
            "\n",
            "WARNING:tensorflow:From /usr/local/lib/python3.6/dist-packages/keras/backend/tensorflow_backend.py:4267: The name tf.nn.max_pool is deprecated. Please use tf.nn.max_pool2d instead.\n",
            "\n",
            "WARNING:tensorflow:From /usr/local/lib/python3.6/dist-packages/keras/backend/tensorflow_backend.py:148: The name tf.placeholder_with_default is deprecated. Please use tf.compat.v1.placeholder_with_default instead.\n",
            "\n",
            "WARNING:tensorflow:From /usr/local/lib/python3.6/dist-packages/keras/backend/tensorflow_backend.py:3733: calling dropout (from tensorflow.python.ops.nn_ops) with keep_prob is deprecated and will be removed in a future version.\n",
            "Instructions for updating:\n",
            "Please use `rate` instead of `keep_prob`. Rate should be set to `rate = 1 - keep_prob`.\n",
            "WARNING:tensorflow:From /usr/local/lib/python3.6/dist-packages/keras/optimizers.py:793: The name tf.train.Optimizer is deprecated. Please use tf.compat.v1.train.Optimizer instead.\n",
            "\n",
            "WARNING:tensorflow:From /usr/local/lib/python3.6/dist-packages/keras/backend/tensorflow_backend.py:3576: The name tf.log is deprecated. Please use tf.math.log instead.\n",
            "\n"
          ],
          "name": "stdout"
        }
      ]
    },
    {
      "cell_type": "code",
      "metadata": {
        "trusted": true,
        "id": "sThrSXK0YXHe",
        "colab_type": "code",
        "outputId": "b4bddc9a-8340-43b7-e44f-fe9a058bbe8b",
        "colab": {
          "base_uri": "https://localhost:8080/",
          "height": 425
        }
      },
      "source": [
        "model.summary()"
      ],
      "execution_count": 0,
      "outputs": [
        {
          "output_type": "stream",
          "text": [
            "Model: \"sequential_1\"\n",
            "_________________________________________________________________\n",
            "Layer (type)                 Output Shape              Param #   \n",
            "=================================================================\n",
            "conv2d_1 (Conv2D)            (None, 32, 32, 32)        896       \n",
            "_________________________________________________________________\n",
            "max_pooling2d_1 (MaxPooling2 (None, 16, 16, 32)        0         \n",
            "_________________________________________________________________\n",
            "conv2d_2 (Conv2D)            (None, 16, 16, 16)        4624      \n",
            "_________________________________________________________________\n",
            "max_pooling2d_2 (MaxPooling2 (None, 8, 8, 16)          0         \n",
            "_________________________________________________________________\n",
            "flatten_1 (Flatten)          (None, 1024)              0         \n",
            "_________________________________________________________________\n",
            "dense_1 (Dense)              (None, 600)               615000    \n",
            "_________________________________________________________________\n",
            "dropout_1 (Dropout)          (None, 600)               0         \n",
            "_________________________________________________________________\n",
            "dense_2 (Dense)              (None, 43)                25843     \n",
            "=================================================================\n",
            "Total params: 646,363\n",
            "Trainable params: 646,363\n",
            "Non-trainable params: 0\n",
            "_________________________________________________________________\n"
          ],
          "name": "stdout"
        }
      ]
    },
    {
      "cell_type": "code",
      "metadata": {
        "trusted": true,
        "id": "u9Zch3dsYXHh",
        "colab_type": "code",
        "colab": {}
      },
      "source": [
        "history = model.fit(data['x_train'], data['y_train'],\n",
        "              batch_size=128, epochs = 5,\n",
        "              validation_data = (data['x_validation'], data['y_validation']))"
      ],
      "execution_count": 0,
      "outputs": []
    },
    {
      "cell_type": "code",
      "metadata": {
        "trusted": true,
        "id": "3CBtAfCQYXHl",
        "colab_type": "code",
        "colab": {}
      },
      "source": [
        "# saving model\n",
        "name = 'model-3.h5'\n",
        "model.save(name)"
      ],
      "execution_count": 0,
      "outputs": []
    },
    {
      "cell_type": "code",
      "metadata": {
        "trusted": true,
        "id": "gpJoDvXJYXHo",
        "colab_type": "code",
        "colab": {}
      },
      "source": [
        "import matplotlib.pyplot as plt\n",
        "plt.plot(history.history['accuracy'])\n",
        "plt.plot(history.history['val_accuracy'])\n",
        "plt.title('Model accuracy')\n",
        "plt.ylabel('Accuracy')\n",
        "plt.xlabel('Epoch')\n",
        "plt.legend(['Train', 'val'], loc='upper left')\n",
        "plt.show()"
      ],
      "execution_count": 0,
      "outputs": []
    },
    {
      "cell_type": "code",
      "metadata": {
        "trusted": true,
        "id": "KpBXy3CqYXHq",
        "colab_type": "code",
        "colab": {}
      },
      "source": [
        "from IPython.display import FileLink\n",
        "FileLink('model-3.h5')# create link for download model"
      ],
      "execution_count": 0,
      "outputs": []
    },
    {
      "cell_type": "code",
      "metadata": {
        "trusted": true,
        "id": "enNU1iVtYXHs",
        "colab_type": "code",
        "colab": {}
      },
      "source": [
        "#from google.colab import files\n",
        "#uploaded = files.upload()"
      ],
      "execution_count": 0,
      "outputs": []
    },
    {
      "cell_type": "code",
      "metadata": {
        "trusted": true,
        "id": "wr4-nYx7YXH9",
        "colab_type": "code",
        "colab": {}
      },
      "source": [
        "model.load_weights('model-3 (1).h5')#load model"
      ],
      "execution_count": 0,
      "outputs": []
    },
    {
      "cell_type": "code",
      "metadata": {
        "id": "H6UyA-_Zaogr",
        "colab_type": "code",
        "outputId": "8fb3468e-d295-449f-f9cd-0c380159413b",
        "colab": {
          "base_uri": "https://localhost:8080/",
          "height": 205
        }
      },
      "source": [
        "import cv2\n",
        "a=cv2.imread(\"nov.jpg\",) #a is an input image\n",
        "a=cv2.cvtColor(a, cv2.COLOR_BGR2RGB)\n",
        "\n",
        "import matplotlib.image as mpimg\n",
        "c=mpimg.imread('nov.jpg')\n",
        "plt.imshow(c)"
      ],
      "execution_count": 0,
      "outputs": [
        {
          "output_type": "execute_result",
          "data": {
            "text/plain": [
              "<matplotlib.image.AxesImage at 0x7fb6d2afb710>"
            ]
          },
          "metadata": {
            "tags": []
          },
          "execution_count": 382
        },
        {
          "output_type": "display_data",
          "data": {
            "image/png": "[encoded data removed]",
            "text/plain": [
              "<Figure size 180x180 with 1 Axes>"
            ]
          },
          "metadata": {
            "tags": []
          }
        }
      ]
    },
    {
      "cell_type": "code",
      "metadata": {
        "id": "r_n33jsAbA1f",
        "colab_type": "code",
        "colab": {}
      },
      "source": [
        "a=a/255.0\n",
        "import pickle\n",
        "with open('mean_image_rgb.pickle', 'rb') as f:\n",
        "    mean = pickle.load(f, encoding='latin1')\n",
        "mean=np.reshape(mean['mean_image_rgb'],(32,32,3))\n",
        "a=a-mean"
      ],
      "execution_count": 0,
      "outputs": []
    },
    {
      "cell_type": "code",
      "metadata": {
        "id": "S4zSjgQqdPbH",
        "colab_type": "code",
        "outputId": "dae0a7fa-ea5b-434c-99a7-65c00238ac72",
        "colab": {
          "base_uri": "https://localhost:8080/",
          "height": 187
        }
      },
      "source": [
        "a=np.reshape(a,(1,32,32,3))\n",
        "pre=model.predict(a)\n",
        "#print(pre[0])\n",
        "b=list(pre[0])\n",
        "prediction = np.argmax(pre)\n",
        "y_out[prediction]"
      ],
      "execution_count": 0,
      "outputs": [
        {
          "output_type": "stream",
          "text": [
            "[2.6689446e-11 6.0383769e-07 1.7487855e-18 1.4972186e-12 7.2597694e-20\n",
            " 3.4224489e-21 9.0030292e-14 5.2069668e-33 4.0653303e-20 1.6509449e-15\n",
            " 3.7083783e-21 1.3881947e-15 4.5656384e-14 1.7560785e-26 2.7737945e-36\n",
            " 2.9522239e-23 9.0995663e-22 4.1387094e-24 1.5682459e-12 2.5539192e-11\n",
            " 6.6013243e-13 5.9787624e-14 8.7137476e-17 1.1207451e-04 1.8920785e-18\n",
            " 5.9751812e-07 3.7517626e-02 1.4275415e-07 6.1811811e-06 3.1539715e-10\n",
            " 2.9988026e-10 3.7434187e-05 5.2804674e-14 9.0481573e-16 1.2476339e-17\n",
            " 7.6734863e-14 8.4589913e-12 3.0957253e-21 3.4805316e-13 3.4668102e-13\n",
            " 9.5897347e-01 3.3517696e-03 1.0547504e-22]\n"
          ],
          "name": "stdout"
        },
        {
          "output_type": "execute_result",
          "data": {
            "text/plain": [
              "'Roundabout mandatory'"
            ]
          },
          "metadata": {
            "tags": []
          },
          "execution_count": 388
        }
      ]
    },
    {
      "cell_type": "code",
      "metadata": {
        "id": "uvxeDFKDofQ9",
        "colab_type": "code",
        "outputId": "a163520e-e408-41d1-9f5f-d3fa20f9af2a",
        "colab": {
          "base_uri": "https://localhost:8080/",
          "height": 201
        }
      },
      "source": [
        "a=cv2.resize(a,(32,32))\n",
        "plt.figure()\n",
        "plt.imshow(a)\n",
        "plt.axis('off')\n"
      ],
      "execution_count": 0,
      "outputs": [
        {
          "output_type": "stream",
          "text": [
            "Clipping input data to the valid range for imshow with RGB data ([0..1] for floats or [0..255] for integers).\n"
          ],
          "name": "stderr"
        },
        {
          "output_type": "execute_result",
          "data": {
            "text/plain": [
              "(-0.5, 31.5, 31.5, -0.5)"
            ]
          },
          "metadata": {
            "tags": []
          },
          "execution_count": 387
        },
        {
          "output_type": "display_data",
          "data": {
            "image/png": "[encoded data removed]",
            "text/plain": [
              "<Figure size 180x180 with 1 Axes>"
            ]
          },
          "metadata": {
            "tags": []
          }
        }
      ]
    }
  ]
}